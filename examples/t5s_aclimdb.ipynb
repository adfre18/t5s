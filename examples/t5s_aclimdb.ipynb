{
  "nbformat": 4,
  "nbformat_minor": 0,
  "metadata": {
    "colab": {
      "name": "t5s_aclimdb",
      "provenance": [],
      "collapsed_sections": [],
      "authorship_tag": "ABX9TyOdZBwkiDb0jM/1ZGSnedM2",
      "include_colab_link": true
    },
    "kernelspec": {
      "name": "python3",
      "display_name": "Python 3"
    },
    "accelerator": "GPU"
  },
  "cells": [
    {
      "cell_type": "markdown",
      "metadata": {
        "id": "view-in-github",
        "colab_type": "text"
      },
      "source": [
        "<a href=\"https://colab.research.google.com/github/honzas83/t5s/blob/main/examples/t5s_aclimdb.ipynb\" target=\"_parent\"><img src=\"https://colab.research.google.com/assets/colab-badge.svg\" alt=\"Open In Colab\"/></a>"
      ]
    },
    {
      "cell_type": "code",
      "metadata": {
        "colab": {
          "base_uri": "https://localhost:8080/"
        },
        "id": "adZxzMjPgaF0",
        "outputId": "2e480877-36d3-4019-d8ad-f1b918ff053b"
      },
      "source": [
        "!pip install git+https://github.com/honzas83/t5s"
      ],
      "execution_count": 1,
      "outputs": [
        {
          "output_type": "stream",
          "text": [
            "Collecting git+https://github.com/honzas83/t5s\n",
            "  Cloning https://github.com/honzas83/t5s to /tmp/pip-req-build-okxc1u12\n",
            "  Running command git clone -q https://github.com/honzas83/t5s /tmp/pip-req-build-okxc1u12\n",
            "Requirement already satisfied (use --upgrade to upgrade): t5s==0.1 from git+https://github.com/honzas83/t5s in /usr/local/lib/python3.6/dist-packages\n",
            "Requirement already satisfied: sentencepiece in /usr/local/lib/python3.6/dist-packages (from t5s==0.1) (0.1.94)\n",
            "Requirement already satisfied: tensorflow in /usr/local/lib/python3.6/dist-packages (from t5s==0.1) (2.3.0)\n",
            "Requirement already satisfied: tensorflow-text in /usr/local/lib/python3.6/dist-packages (from t5s==0.1) (2.3.0)\n",
            "Requirement already satisfied: transformers==3.3.0 in /usr/local/lib/python3.6/dist-packages (from t5s==0.1) (3.3.0)\n",
            "Requirement already satisfied: pyyaml in /usr/local/lib/python3.6/dist-packages (from t5s==0.1) (3.13)\n",
            "Requirement already satisfied: scikit-learn in /usr/local/lib/python3.6/dist-packages (from t5s==0.1) (0.22.2.post1)\n",
            "Requirement already satisfied: gast==0.3.3 in /usr/local/lib/python3.6/dist-packages (from tensorflow->t5s==0.1) (0.3.3)\n",
            "Requirement already satisfied: scipy==1.4.1 in /usr/local/lib/python3.6/dist-packages (from tensorflow->t5s==0.1) (1.4.1)\n",
            "Requirement already satisfied: astunparse==1.6.3 in /usr/local/lib/python3.6/dist-packages (from tensorflow->t5s==0.1) (1.6.3)\n",
            "Requirement already satisfied: wheel>=0.26 in /usr/local/lib/python3.6/dist-packages (from tensorflow->t5s==0.1) (0.35.1)\n",
            "Requirement already satisfied: wrapt>=1.11.1 in /usr/local/lib/python3.6/dist-packages (from tensorflow->t5s==0.1) (1.12.1)\n",
            "Requirement already satisfied: google-pasta>=0.1.8 in /usr/local/lib/python3.6/dist-packages (from tensorflow->t5s==0.1) (0.2.0)\n",
            "Requirement already satisfied: termcolor>=1.1.0 in /usr/local/lib/python3.6/dist-packages (from tensorflow->t5s==0.1) (1.1.0)\n",
            "Requirement already satisfied: grpcio>=1.8.6 in /usr/local/lib/python3.6/dist-packages (from tensorflow->t5s==0.1) (1.33.2)\n",
            "Requirement already satisfied: opt-einsum>=2.3.2 in /usr/local/lib/python3.6/dist-packages (from tensorflow->t5s==0.1) (3.3.0)\n",
            "Requirement already satisfied: absl-py>=0.7.0 in /usr/local/lib/python3.6/dist-packages (from tensorflow->t5s==0.1) (0.10.0)\n",
            "Requirement already satisfied: tensorboard<3,>=2.3.0 in /usr/local/lib/python3.6/dist-packages (from tensorflow->t5s==0.1) (2.3.0)\n",
            "Requirement already satisfied: six>=1.12.0 in /usr/local/lib/python3.6/dist-packages (from tensorflow->t5s==0.1) (1.15.0)\n",
            "Requirement already satisfied: h5py<2.11.0,>=2.10.0 in /usr/local/lib/python3.6/dist-packages (from tensorflow->t5s==0.1) (2.10.0)\n",
            "Requirement already satisfied: keras-preprocessing<1.2,>=1.1.1 in /usr/local/lib/python3.6/dist-packages (from tensorflow->t5s==0.1) (1.1.2)\n",
            "Requirement already satisfied: tensorflow-estimator<2.4.0,>=2.3.0 in /usr/local/lib/python3.6/dist-packages (from tensorflow->t5s==0.1) (2.3.0)\n",
            "Requirement already satisfied: protobuf>=3.9.2 in /usr/local/lib/python3.6/dist-packages (from tensorflow->t5s==0.1) (3.12.4)\n",
            "Requirement already satisfied: numpy<1.19.0,>=1.16.0 in /usr/local/lib/python3.6/dist-packages (from tensorflow->t5s==0.1) (1.18.5)\n",
            "Requirement already satisfied: packaging in /usr/local/lib/python3.6/dist-packages (from transformers==3.3.0->t5s==0.1) (20.4)\n",
            "Requirement already satisfied: filelock in /usr/local/lib/python3.6/dist-packages (from transformers==3.3.0->t5s==0.1) (3.0.12)\n",
            "Requirement already satisfied: sacremoses in /usr/local/lib/python3.6/dist-packages (from transformers==3.3.0->t5s==0.1) (0.0.43)\n",
            "Requirement already satisfied: dataclasses; python_version < \"3.7\" in /usr/local/lib/python3.6/dist-packages (from transformers==3.3.0->t5s==0.1) (0.8)\n",
            "Requirement already satisfied: regex!=2019.12.17 in /usr/local/lib/python3.6/dist-packages (from transformers==3.3.0->t5s==0.1) (2019.12.20)\n",
            "Requirement already satisfied: tqdm>=4.27 in /usr/local/lib/python3.6/dist-packages (from transformers==3.3.0->t5s==0.1) (4.41.1)\n",
            "Requirement already satisfied: requests in /usr/local/lib/python3.6/dist-packages (from transformers==3.3.0->t5s==0.1) (2.23.0)\n",
            "Requirement already satisfied: tokenizers==0.8.1.rc2 in /usr/local/lib/python3.6/dist-packages (from transformers==3.3.0->t5s==0.1) (0.8.1rc2)\n",
            "Requirement already satisfied: joblib>=0.11 in /usr/local/lib/python3.6/dist-packages (from scikit-learn->t5s==0.1) (0.17.0)\n",
            "Requirement already satisfied: google-auth<2,>=1.6.3 in /usr/local/lib/python3.6/dist-packages (from tensorboard<3,>=2.3.0->tensorflow->t5s==0.1) (1.17.2)\n",
            "Requirement already satisfied: markdown>=2.6.8 in /usr/local/lib/python3.6/dist-packages (from tensorboard<3,>=2.3.0->tensorflow->t5s==0.1) (3.3.3)\n",
            "Requirement already satisfied: werkzeug>=0.11.15 in /usr/local/lib/python3.6/dist-packages (from tensorboard<3,>=2.3.0->tensorflow->t5s==0.1) (1.0.1)\n",
            "Requirement already satisfied: tensorboard-plugin-wit>=1.6.0 in /usr/local/lib/python3.6/dist-packages (from tensorboard<3,>=2.3.0->tensorflow->t5s==0.1) (1.7.0)\n",
            "Requirement already satisfied: setuptools>=41.0.0 in /usr/local/lib/python3.6/dist-packages (from tensorboard<3,>=2.3.0->tensorflow->t5s==0.1) (50.3.2)\n",
            "Requirement already satisfied: google-auth-oauthlib<0.5,>=0.4.1 in /usr/local/lib/python3.6/dist-packages (from tensorboard<3,>=2.3.0->tensorflow->t5s==0.1) (0.4.2)\n",
            "Requirement already satisfied: pyparsing>=2.0.2 in /usr/local/lib/python3.6/dist-packages (from packaging->transformers==3.3.0->t5s==0.1) (2.4.7)\n",
            "Requirement already satisfied: click in /usr/local/lib/python3.6/dist-packages (from sacremoses->transformers==3.3.0->t5s==0.1) (7.1.2)\n",
            "Requirement already satisfied: certifi>=2017.4.17 in /usr/local/lib/python3.6/dist-packages (from requests->transformers==3.3.0->t5s==0.1) (2020.11.8)\n",
            "Requirement already satisfied: urllib3!=1.25.0,!=1.25.1,<1.26,>=1.21.1 in /usr/local/lib/python3.6/dist-packages (from requests->transformers==3.3.0->t5s==0.1) (1.24.3)\n",
            "Requirement already satisfied: chardet<4,>=3.0.2 in /usr/local/lib/python3.6/dist-packages (from requests->transformers==3.3.0->t5s==0.1) (3.0.4)\n",
            "Requirement already satisfied: idna<3,>=2.5 in /usr/local/lib/python3.6/dist-packages (from requests->transformers==3.3.0->t5s==0.1) (2.10)\n",
            "Requirement already satisfied: rsa<5,>=3.1.4; python_version >= \"3\" in /usr/local/lib/python3.6/dist-packages (from google-auth<2,>=1.6.3->tensorboard<3,>=2.3.0->tensorflow->t5s==0.1) (4.6)\n",
            "Requirement already satisfied: pyasn1-modules>=0.2.1 in /usr/local/lib/python3.6/dist-packages (from google-auth<2,>=1.6.3->tensorboard<3,>=2.3.0->tensorflow->t5s==0.1) (0.2.8)\n",
            "Requirement already satisfied: cachetools<5.0,>=2.0.0 in /usr/local/lib/python3.6/dist-packages (from google-auth<2,>=1.6.3->tensorboard<3,>=2.3.0->tensorflow->t5s==0.1) (4.1.1)\n",
            "Requirement already satisfied: importlib-metadata; python_version < \"3.8\" in /usr/local/lib/python3.6/dist-packages (from markdown>=2.6.8->tensorboard<3,>=2.3.0->tensorflow->t5s==0.1) (2.0.0)\n",
            "Requirement already satisfied: requests-oauthlib>=0.7.0 in /usr/local/lib/python3.6/dist-packages (from google-auth-oauthlib<0.5,>=0.4.1->tensorboard<3,>=2.3.0->tensorflow->t5s==0.1) (1.3.0)\n",
            "Requirement already satisfied: pyasn1>=0.1.3 in /usr/local/lib/python3.6/dist-packages (from rsa<5,>=3.1.4; python_version >= \"3\"->google-auth<2,>=1.6.3->tensorboard<3,>=2.3.0->tensorflow->t5s==0.1) (0.4.8)\n",
            "Requirement already satisfied: zipp>=0.5 in /usr/local/lib/python3.6/dist-packages (from importlib-metadata; python_version < \"3.8\"->markdown>=2.6.8->tensorboard<3,>=2.3.0->tensorflow->t5s==0.1) (3.4.0)\n",
            "Requirement already satisfied: oauthlib>=3.0.0 in /usr/local/lib/python3.6/dist-packages (from requests-oauthlib>=0.7.0->google-auth-oauthlib<0.5,>=0.4.1->tensorboard<3,>=2.3.0->tensorflow->t5s==0.1) (3.1.0)\n",
            "Building wheels for collected packages: t5s\n",
            "  Building wheel for t5s (setup.py) ... \u001b[?25l\u001b[?25hdone\n",
            "  Created wheel for t5s: filename=t5s-0.1-cp36-none-any.whl size=13590 sha256=ea047489b16ad617997b7939fb417de5d1cf012ab4cd163af8018ffce38eaa7e\n",
            "  Stored in directory: /tmp/pip-ephem-wheel-cache-8ebqjn90/wheels/04/e5/71/24b59a9d225bfaead43ca97afe95fce46b5d56ddba98ac4b2d\n",
            "Successfully built t5s\n"
          ],
          "name": "stdout"
        }
      ]
    },
    {
      "cell_type": "code",
      "metadata": {
        "colab": {
          "base_uri": "https://localhost:8080/"
        },
        "id": "aA61SgeTgiyK",
        "outputId": "e4a7b09c-4996-4238-bff9-7b5da9e8d086"
      },
      "source": [
        "!wget http://ai.stanford.edu/~amaas/data/sentiment/aclImdb_v1.tar.gz"
      ],
      "execution_count": 2,
      "outputs": [
        {
          "output_type": "stream",
          "text": [
            "--2020-12-10 12:27:47--  http://ai.stanford.edu/~amaas/data/sentiment/aclImdb_v1.tar.gz\n",
            "Resolving ai.stanford.edu (ai.stanford.edu)... 171.64.68.10\n",
            "Connecting to ai.stanford.edu (ai.stanford.edu)|171.64.68.10|:80... connected.\n",
            "HTTP request sent, awaiting response... 200 OK\n",
            "Length: 84125825 (80M) [application/x-gzip]\n",
            "Saving to: ‘aclImdb_v1.tar.gz.1’\n",
            "\n",
            "aclImdb_v1.tar.gz.1 100%[===================>]  80.23M  23.7MB/s    in 3.4s    \n",
            "\n",
            "2020-12-10 12:27:51 (23.7 MB/s) - ‘aclImdb_v1.tar.gz.1’ saved [84125825/84125825]\n",
            "\n"
          ],
          "name": "stdout"
        }
      ]
    },
    {
      "cell_type": "code",
      "metadata": {
        "id": "Vpa6zABvg5f2"
      },
      "source": [
        "!tar xzf aclImdb_v1.tar.gz"
      ],
      "execution_count": 3,
      "outputs": []
    },
    {
      "cell_type": "code",
      "metadata": {
        "id": "EHMB0aHMhR3u"
      },
      "source": [
        "import os\n",
        "from glob import glob\n",
        "import random"
      ],
      "execution_count": 4,
      "outputs": []
    },
    {
      "cell_type": "code",
      "metadata": {
        "id": "CTcDMDy1g-Bf"
      },
      "source": [
        "def find_data(dn):\n",
        "    fns = glob(os.path.join(dn, \"pos\", \"*.txt\"))+glob(os.path.join(dn, \"neg\", \"*.txt\"))\n",
        "    return fns\n",
        "\n",
        "def convert_data(fns, out_fn):\n",
        "    random.shuffle(fns)\n",
        "    with open(out_fn, \"w\", encoding=\"utf-8\") as fw:\n",
        "        for fn in fns:\n",
        "            if \"/pos/\" in fn:\n",
        "                label = \"positive\"\n",
        "            elif \"/neg/\" in fn:\n",
        "                label = \"negative\"\n",
        "            else:\n",
        "                continue\n",
        "            with open(fn, \"r\", encoding=\"utf-8\") as fr:\n",
        "                text = fr.read().strip()\n",
        "            if not text:\n",
        "                continue\n",
        "            \n",
        "            text = text.replace(\"\\n\", \" \").replace(\"\\t\", \" \")\n",
        "            print(text, label, sep=\"\\t\", file=fw)"
      ],
      "execution_count": 5,
      "outputs": []
    },
    {
      "cell_type": "code",
      "metadata": {
        "id": "tksD1rrnhApj"
      },
      "source": [
        "train_fns = find_data(\"aclImdb/train\")\n",
        "dev_fns = train_fns[-2000:]\n",
        "del train_fns[-2000:]\n",
        "test_fns = find_data(\"aclImdb/test\")\n",
        "convert_data(train_fns, \"aclImdb.train.tsv\")\n",
        "convert_data(dev_fns, \"aclImdb.dev.tsv\")\n",
        "convert_data(test_fns, \"aclImdb.test.tsv\")"
      ],
      "execution_count": 6,
      "outputs": []
    },
    {
      "cell_type": "code",
      "metadata": {
        "colab": {
          "base_uri": "https://localhost:8080/"
        },
        "id": "TFIH8_oNi2qC",
        "outputId": "b6eb9781-fc78-4ac0-ed76-6d2cdce4febb"
      },
      "source": [
        "!wc -l *.tsv"
      ],
      "execution_count": 7,
      "outputs": [
        {
          "output_type": "stream",
          "text": [
            "    2000 aclImdb.dev.tsv\n",
            "   25000 aclImdb.test.tsv\n",
            "   23000 aclImdb.train.tsv\n",
            "   50000 total\n"
          ],
          "name": "stdout"
        }
      ]
    },
    {
      "cell_type": "code",
      "metadata": {
        "colab": {
          "base_uri": "https://localhost:8080/"
        },
        "id": "h_H1sepNjmLm",
        "outputId": "dd9dcb65-bd27-4a70-c64c-196ac15efd36"
      },
      "source": [
        "!gsutil cp -r gs://t5-data/vocabs/cc_all.32000/ ."
      ],
      "execution_count": 8,
      "outputs": [
        {
          "output_type": "stream",
          "text": [
            "Copying gs://t5-data/vocabs/cc_all.32000/sentencepiece.model...\n",
            "Copying gs://t5-data/vocabs/cc_all.32000/sentencepiece.vocab...\n",
            "/ [2 files][  1.3 MiB/  1.3 MiB]                                                \n",
            "Operation completed over 2 objects/1.3 MiB.                                      \n"
          ],
          "name": "stdout"
        }
      ]
    },
    {
      "cell_type": "code",
      "metadata": {
        "id": "ImjrvObYi5Hd"
      },
      "source": [
        "config = {\n",
        "    \"tokenizer\": {\n",
        "        \"spm\": \"cc_all.32000/sentencepiece.model\",\n",
        "    },\n",
        "    \"t5_model\": {\n",
        "        \"pre_trained\": \"t5-base\",\n",
        "        \"save_checkpoint\": \"T5_aclImdb\",\n",
        "        \"save_checkpoint_every\": 1,\n",
        "    },\n",
        "    \"dataset\": {\n",
        "        \"train_tsv\": \"aclImdb.train.tsv\",\n",
        "        \"devel_tsv\": \"aclImdb.dev.tsv\",\n",
        "        \"test_tsv\": \"aclImdb.test.tsv\",\n",
        "        \"loader\": {\n",
        "            \"input_size\": 3072,\n",
        "            \"output_size\": 256,\n",
        "            \"min_batch_size\": 4,\n",
        "        },\n",
        "    },\n",
        "    \"training\": {\n",
        "        \"shared_trainable\": False,\n",
        "        \"encoder_trainable\": True,\n",
        "        \"n_epochs\": 20,\n",
        "        \"initial_epoch\": 0,\n",
        "        \"steps_per_epoch\": 1000,\n",
        "        \"learning_rate\": 0.001,\n",
        "        \"learning_rate_schedule\": True,\n",
        "    },\n",
        "}"
      ],
      "execution_count": 9,
      "outputs": []
    },
    {
      "cell_type": "code",
      "metadata": {
        "id": "ampv7fC5krW-"
      },
      "source": [
        "from t5s import T5"
      ],
      "execution_count": 10,
      "outputs": []
    },
    {
      "cell_type": "code",
      "metadata": {
        "id": "Mre0IQ5AktUF"
      },
      "source": [
        "t5 = T5(config)"
      ],
      "execution_count": 11,
      "outputs": []
    },
    {
      "cell_type": "code",
      "metadata": {
        "colab": {
          "base_uri": "https://localhost:8080/"
        },
        "id": "mBvYw2fmkwJn",
        "outputId": "93773ea5-f440-4637-b8ed-b698ec43622a"
      },
      "source": [
        "t5.fine_tune()"
      ],
      "execution_count": null,
      "outputs": [
        {
          "output_type": "stream",
          "text": [
            "All model checkpoint weights were used when initializing T5Training.\n",
            "\n",
            "Some weights of T5Training were not initialized from the model checkpoint at t5-base and are newly initialized: ['loss']\n",
            "You should probably TRAIN this model on a down-stream task to be able to use it for predictions and inference.\n"
          ],
          "name": "stderr"
        },
        {
          "output_type": "stream",
          "text": [
            "\n",
            "Epoch 00001: LearningRateScheduler reducing learning rate to 0.001.\n",
            "Epoch 1/20\n",
            " 447/1000 [============>.................] - ETA: 7:58 - sent_accuracy: 0.8298 - edit_accuracy: 0.9139 - loss: 0.2577"
          ],
          "name": "stdout"
        }
      ]
    }
  ]
}