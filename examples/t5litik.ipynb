{
  "nbformat": 4,
  "nbformat_minor": 0,
  "metadata": {
    "colab": {
      "name": "t5litik.ipynb",
      "provenance": [],
      "collapsed_sections": [],
      "authorship_tag": "ABX9TyPsZzaMxl1bS8KJAZXlNQRD",
      "include_colab_link": true
    },
    "kernelspec": {
      "name": "python3",
      "display_name": "Python 3"
    },
    "accelerator": "GPU"
  },
  "cells": [
    {
      "cell_type": "markdown",
      "metadata": {
        "id": "view-in-github",
        "colab_type": "text"
      },
      "source": [
        "<a href=\"https://colab.research.google.com/github/honzas83/t5s/blob/main/examples/t5litik.ipynb\" target=\"_parent\"><img src=\"https://colab.research.google.com/assets/colab-badge.svg\" alt=\"Open In Colab\"/></a>"
      ]
    },
    {
      "cell_type": "markdown",
      "metadata": {
        "id": "ReURfrtav_23"
      },
      "source": [
        "# Instalace potřebných knihoven"
      ]
    },
    {
      "cell_type": "code",
      "metadata": {
        "id": "ibdAhoBpv8Dq"
      },
      "source": [
        "%%capture pip_install\n",
        "!pip install git+https://github.com/honzas83/t5s --upgrade"
      ],
      "execution_count": 38,
      "outputs": []
    },
    {
      "cell_type": "markdown",
      "metadata": {
        "id": "_H1L2UIGwEEQ"
      },
      "source": [
        "# Stažení modelu\n",
        "\n",
        "Odkaz platný do 23.12.2020."
      ]
    },
    {
      "cell_type": "code",
      "metadata": {
        "colab": {
          "base_uri": "https://localhost:8080/"
        },
        "id": "xmOTsiWQwDhe",
        "outputId": "b8f8a298-9662-4967-c767-c3af445d2e70"
      },
      "source": [
        "!curl \"https://filesender.cesnet.cz/download.php?token=aea1f908-6ee5-945b-72bd-a126008a4934&files_ids=154007\" | tar xzv"
      ],
      "execution_count": 39,
      "outputs": [
        {
          "output_type": "stream",
          "text": [
            "  % Total    % Received % Xferd  Average Speed   Time    Time     Time  Current\n",
            "                                 Dload  Upload   Total   Spent    Left  Speed\n",
            "\r  0     0    0     0    0     0      0      0 --:--:-- --:--:-- --:--:--     0\r  0     0    0     0    0     0      0      0 --:--:-- --:--:-- --:--:--     0t5litik.yaml\n",
            "t5litik.spm\n",
            "t5litik/\n",
            "t5litik/tf_model.h5\n",
            "100  762M  100  762M    0     0  19.1M      0  0:00:39  0:00:39 --:--:-- 25.5M\n",
            "t5litik/config.json\n"
          ],
          "name": "stdout"
        }
      ]
    },
    {
      "cell_type": "markdown",
      "metadata": {
        "id": "vW7aosB01yum"
      },
      "source": [
        "Importování knihoven"
      ]
    },
    {
      "cell_type": "code",
      "metadata": {
        "id": "_MVc0Y9xx93Q"
      },
      "source": [
        "import t5s\n",
        "from IPython.core.display import display, HTML\n",
        "import re"
      ],
      "execution_count": 40,
      "outputs": []
    },
    {
      "cell_type": "markdown",
      "metadata": {
        "id": "R7atdMQ5110j"
      },
      "source": [
        "## Vytvoření instance třídy T5 z knihovny t5s"
      ]
    },
    {
      "cell_type": "code",
      "metadata": {
        "colab": {
          "base_uri": "https://localhost:8080/"
        },
        "id": "Fyyo_LuYyTeR",
        "outputId": "64d9ed45-9aa2-4500-976a-b2194b4231e6"
      },
      "source": [
        "t5litik = t5s.T5(\"./t5litik.yaml\")\n",
        "t5litik.load_model()"
      ],
      "execution_count": 44,
      "outputs": [
        {
          "output_type": "stream",
          "text": [
            "All model checkpoint weights were used when initializing T5Training.\n",
            "\n",
            "All the weights of T5Training were initialized from the model checkpoint at ./t5litik.\n",
            "If your task is similar to the task the model of the checkpoint was trained on, you can already use T5Training for predictions without further training.\n"
          ],
          "name": "stderr"
        },
        {
          "output_type": "execute_result",
          "data": {
            "text/plain": [
              "<t5s.T5Training at 0x7fdaf8063a58>"
            ]
          },
          "metadata": {
            "tags": []
          },
          "execution_count": 44
        }
      ]
    },
    {
      "cell_type": "code",
      "metadata": {
        "id": "Qe-QMlWhzgYX"
      },
      "source": [
        "def end_sentence(output):\n",
        "    \"Funkce pro odříznutí slov zbylých za poslední tečkou\"\n",
        "    return output.rsplit(\".\", 1)[0]+\".\""
      ],
      "execution_count": 45,
      "outputs": []
    },
    {
      "cell_type": "code",
      "metadata": {
        "colab": {
          "base_uri": "https://localhost:8080/",
          "height": 190
        },
        "id": "_pmH3sN0yY0i",
        "outputId": "0fd4ce9e-b476-4ccd-cac0-34e1dcdaba51"
      },
      "source": [
        "print(\"Po spuštění zadejte vstup do vstupního řádku, pro ukončení zadejte prázdný vstup.\")\n",
        "while True:\n",
        "    i = input(\"> \")\n",
        "    if not i:\n",
        "        break\n",
        "    o = t5litik.predict([i])\n",
        "    o = end_sentence(o[0])\n",
        "    display(HTML(\"<b>\"+o+\"</b>\"))\n",
        "    print()"
      ],
      "execution_count": 47,
      "outputs": [
        {
          "output_type": "stream",
          "text": [
            "Po spuštění zadejte vstup do vstupního řádku, pro ukončení zadejte prázdný vstup.\n",
            "> Dobrý den, pane poslanče, s čím dnes přijde vláda?\n"
          ],
          "name": "stdout"
        },
        {
          "output_type": "display_data",
          "data": {
            "text/html": [
              "<b>Dobrý den. Tak já jsem se včera na tiskové konferenci zeptal pana ministra, jestli by se měl vyjádřit k tomu, co se děje v České republice, protože já jsem přesvědčen, že to je v pořádku, že se to děje, že je to v pořádku.</b>"
            ],
            "text/plain": [
              "<IPython.core.display.HTML object>"
            ]
          },
          "metadata": {
            "tags": []
          }
        },
        {
          "output_type": "stream",
          "text": [
            "\n",
            "> Jaký je váš názor na výsledek voleb do Senátu?\n"
          ],
          "name": "stdout"
        },
        {
          "output_type": "display_data",
          "data": {
            "text/html": [
              "<b>Tak já si myslím, že to je věc, která je v podstatě v pořádku, protože to je, to je záležitost, která se týká i toho, že se to týká i těch voleb do Senátu. A já si nemyslím, že by to bylo úplně správné, protože pokud by se to týkalo jenom těch voleb, tak by to mělo být v pořádku.</b>"
            ],
            "text/plain": [
              "<IPython.core.display.HTML object>"
            ]
          },
          "metadata": {
            "tags": []
          }
        },
        {
          "output_type": "stream",
          "text": [
            "\n",
            "> \n"
          ],
          "name": "stdout"
        }
      ]
    },
    {
      "cell_type": "code",
      "metadata": {
        "id": "oZD3PwKj2VpL"
      },
      "source": [
        ""
      ],
      "execution_count": null,
      "outputs": []
    }
  ]
}